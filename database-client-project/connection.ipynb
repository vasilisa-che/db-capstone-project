{
 "cells": [
  {
   "cell_type": "markdown",
   "metadata": {},
   "source": [
    "### Creating Database Client for Little Lemon DB"
   ]
  },
  {
   "cell_type": "markdown",
   "metadata": {},
   "source": [
    "Set up the client project"
   ]
  },
  {
   "cell_type": "code",
   "execution_count": 1,
   "metadata": {},
   "outputs": [],
   "source": [
    "# Import MySQL Connector/Python\n",
    "import mysql.connector as connector"
   ]
  },
  {
   "cell_type": "code",
   "execution_count": 2,
   "metadata": {},
   "outputs": [],
   "source": [
    "\n",
    "# Establish connection\n",
    "connection = connector.connect(user=\"admin\", password=\"test\", db = \"littlelemondb\")"
   ]
  },
  {
   "cell_type": "code",
   "execution_count": 3,
   "metadata": {},
   "outputs": [
    {
     "name": "stdout",
     "output_type": "stream",
     "text": [
      "Creating a cursor object.\n"
     ]
    }
   ],
   "source": [
    "# Create a cursor object to communicate with MySQL\n",
    "print(\"Creating a cursor object.\")\n",
    "cursor = connection.cursor()"
   ]
  },
  {
   "cell_type": "markdown",
   "metadata": {},
   "source": [
    "Database tables"
   ]
  },
  {
   "cell_type": "code",
   "execution_count": 4,
   "metadata": {},
   "outputs": [
    {
     "name": "stdout",
     "output_type": "stream",
     "text": [
      "Tables in the database:\n",
      "\n",
      "bookings\n",
      "customers\n",
      "menuitems\n",
      "orders\n",
      "ordersview\n",
      "staff\n"
     ]
    }
   ],
   "source": [
    "# Show all tables within the database\n",
    "show_tables_query = \"SHOW tables\" \n",
    "cursor.execute(show_tables_query)\n",
    "\n",
    "print(\"Tables in the database:\\n\")\n",
    "results = cursor.fetchall()\n",
    "for result in results:\n",
    "    print(result[0])"
   ]
  },
  {
   "cell_type": "markdown",
   "metadata": {},
   "source": [
    "Get information for a promotional campaign: details about every customer that has placed an order greater than $20"
   ]
  },
  {
   "cell_type": "code",
   "execution_count": 5,
   "metadata": {},
   "outputs": [],
   "source": [
    "# Quary data from two table\n",
    "contacts_info_query = \"\"\"\n",
    "SELECT c.CustomerID, CONCAT(GuestFirstName, ' ', GuestLastName) AS 'Guest Name', ContactNumber, Email, BillAmount\n",
    "FROM Orders AS o\n",
    "LEFT JOIN Bookings AS b ON b.BookingID=o.BookingID\n",
    "INNER JOIN Customers AS c ON b.CustomerID=c.CustomerID\n",
    "WHERE BillAmount > 20\n",
    "\"\"\""
   ]
  },
  {
   "cell_type": "code",
   "execution_count": 6,
   "metadata": {},
   "outputs": [
    {
     "name": "stdout",
     "output_type": "stream",
     "text": [
      "Full name, contact details and bill amount for every customer who spent more than $20:\n",
      "\n",
      "('CustomerID', 'Guest Name', 'ContactNumber', 'Email', 'BillAmount')\n",
      "(7, 'Olivia Davis', '7890123456', 'olivia.davis@example.com', Decimal('28.00'))\n",
      "(2, 'Jane Smith', '2345678901', 'jane.smith@example.com', Decimal('21.00'))\n",
      "(1, 'John Doe', '1234567890', 'john.doe@example.com', Decimal('34.00'))\n"
     ]
    }
   ],
   "source": [
    "cursor.execute(contacts_info_query)\n",
    "\n",
    "print(\"Full name, contact details and bill amount for every customer who spent more than $20:\\n\\n\", cursor.column_names, sep='')\n",
    "results = cursor.fetchall()\n",
    "for result in results:\n",
    "    print(result)"
   ]
  },
  {
   "cell_type": "code",
   "execution_count": null,
   "metadata": {},
   "outputs": [],
   "source": []
  }
 ],
 "metadata": {
  "kernelspec": {
   "display_name": ".venv",
   "language": "python",
   "name": "python3"
  },
  "language_info": {
   "codemirror_mode": {
    "name": "ipython",
    "version": 3
   },
   "file_extension": ".py",
   "mimetype": "text/x-python",
   "name": "python",
   "nbconvert_exporter": "python",
   "pygments_lexer": "ipython3",
   "version": "3.12.3"
  }
 },
 "nbformat": 4,
 "nbformat_minor": 2
}
